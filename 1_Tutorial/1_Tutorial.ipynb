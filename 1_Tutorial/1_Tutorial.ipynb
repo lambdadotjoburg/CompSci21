{
 "cells": [
  {
   "cell_type": "markdown",
   "id": "073942cd",
   "metadata": {},
   "source": [
    "# DOM Manipulation (JavaScript Web Developing)\n",
    "***"
   ]
  },
  {
   "cell_type": "markdown",
   "id": "9a6683c1",
   "metadata": {},
   "source": [
    "### Keywords"
   ]
  },
  {
   "cell_type": "markdown",
   "id": "da332054",
   "metadata": {},
   "source": [
    " 1) DOM ~ Document Object Model (Cross-Platform, Language-Independent API organized as a Tree Structure)\n",
    " \n",
    " 2) Upon Loading HTML into the Browser, a Document (DOM), is created in which:\n",
    " \n",
    " - the HTML Document is loaded as a format in which JavaScript can Interact with Dynamic HTML Elements as Objects.\n",
    " \n",
    " - Each Dynamic HTML Element is a Node & DOM Methods allow Programmatic Access to the Tree."
   ]
  },
  {
   "cell_type": "markdown",
   "id": "ea5c1fda",
   "metadata": {},
   "source": [
    "3) Properties, Methods, Events, ...\n",
    " \n",
    " - Access DOM Elements ~ getElementById(), getElementsByClassName(), getElementsByTagName(), getElementsByName()\n",
    " \n",
    " - Attribute Methods ~ getAttribute(), setAttribute(), removeAttribute()\n",
    " \n",
    " - Event Handling ~ addEventListener(), removeEventListener(), document.onload(), $(document).ready(function()\n",
    " \n",
    " - Storage ~ localStorage.setItem(), localStorage.getItem(), localStorage.removeItem(), localStorage.clear()\n",
    " \n",
    " ***"
   ]
  },
  {
   "cell_type": "markdown",
   "id": "9437e210",
   "metadata": {},
   "source": [
    "In this tutorial, we use %lsmagic to emulate a developers environment within jupyter notebook"
   ]
  },
  {
   "cell_type": "code",
   "execution_count": 1,
   "id": "8922d6aa",
   "metadata": {},
   "outputs": [
    {
     "data": {
      "application/json": {
       "cell": {
        "!": "OSMagics",
        "HTML": "Other",
        "SVG": "Other",
        "bash": "Other",
        "capture": "ExecutionMagics",
        "cmd": "Other",
        "debug": "ExecutionMagics",
        "file": "Other",
        "html": "DisplayMagics",
        "javascript": "DisplayMagics",
        "js": "DisplayMagics",
        "latex": "DisplayMagics",
        "markdown": "DisplayMagics",
        "perl": "Other",
        "prun": "ExecutionMagics",
        "pypy": "Other",
        "python": "Other",
        "python2": "Other",
        "python3": "Other",
        "ruby": "Other",
        "script": "ScriptMagics",
        "sh": "Other",
        "svg": "DisplayMagics",
        "sx": "OSMagics",
        "system": "OSMagics",
        "time": "ExecutionMagics",
        "timeit": "ExecutionMagics",
        "writefile": "OSMagics"
       },
       "line": {
        "alias": "OSMagics",
        "alias_magic": "BasicMagics",
        "autoawait": "AsyncMagics",
        "autocall": "AutoMagics",
        "automagic": "AutoMagics",
        "autosave": "KernelMagics",
        "bookmark": "OSMagics",
        "cd": "OSMagics",
        "clear": "KernelMagics",
        "cls": "KernelMagics",
        "colors": "BasicMagics",
        "conda": "PackagingMagics",
        "config": "ConfigMagics",
        "connect_info": "KernelMagics",
        "copy": "Other",
        "ddir": "Other",
        "debug": "ExecutionMagics",
        "dhist": "OSMagics",
        "dirs": "OSMagics",
        "doctest_mode": "BasicMagics",
        "echo": "Other",
        "ed": "Other",
        "edit": "KernelMagics",
        "env": "OSMagics",
        "gui": "BasicMagics",
        "hist": "Other",
        "history": "HistoryMagics",
        "killbgscripts": "ScriptMagics",
        "ldir": "Other",
        "less": "KernelMagics",
        "load": "CodeMagics",
        "load_ext": "ExtensionMagics",
        "loadpy": "CodeMagics",
        "logoff": "LoggingMagics",
        "logon": "LoggingMagics",
        "logstart": "LoggingMagics",
        "logstate": "LoggingMagics",
        "logstop": "LoggingMagics",
        "ls": "Other",
        "lsmagic": "BasicMagics",
        "macro": "ExecutionMagics",
        "magic": "BasicMagics",
        "matplotlib": "PylabMagics",
        "mkdir": "Other",
        "more": "KernelMagics",
        "notebook": "BasicMagics",
        "page": "BasicMagics",
        "pastebin": "CodeMagics",
        "pdb": "ExecutionMagics",
        "pdef": "NamespaceMagics",
        "pdoc": "NamespaceMagics",
        "pfile": "NamespaceMagics",
        "pinfo": "NamespaceMagics",
        "pinfo2": "NamespaceMagics",
        "pip": "PackagingMagics",
        "popd": "OSMagics",
        "pprint": "BasicMagics",
        "precision": "BasicMagics",
        "prun": "ExecutionMagics",
        "psearch": "NamespaceMagics",
        "psource": "NamespaceMagics",
        "pushd": "OSMagics",
        "pwd": "OSMagics",
        "pycat": "OSMagics",
        "pylab": "PylabMagics",
        "qtconsole": "KernelMagics",
        "quickref": "BasicMagics",
        "recall": "HistoryMagics",
        "rehashx": "OSMagics",
        "reload_ext": "ExtensionMagics",
        "ren": "Other",
        "rep": "Other",
        "rerun": "HistoryMagics",
        "reset": "NamespaceMagics",
        "reset_selective": "NamespaceMagics",
        "rmdir": "Other",
        "run": "ExecutionMagics",
        "save": "CodeMagics",
        "sc": "OSMagics",
        "set_env": "OSMagics",
        "store": "StoreMagics",
        "sx": "OSMagics",
        "system": "OSMagics",
        "tb": "ExecutionMagics",
        "time": "ExecutionMagics",
        "timeit": "ExecutionMagics",
        "unalias": "OSMagics",
        "unload_ext": "ExtensionMagics",
        "who": "NamespaceMagics",
        "who_ls": "NamespaceMagics",
        "whos": "NamespaceMagics",
        "xdel": "NamespaceMagics",
        "xmode": "BasicMagics"
       }
      },
      "text/plain": [
       "Available line magics:\n",
       "%alias  %alias_magic  %autoawait  %autocall  %automagic  %autosave  %bookmark  %cd  %clear  %cls  %colors  %conda  %config  %connect_info  %copy  %ddir  %debug  %dhist  %dirs  %doctest_mode  %echo  %ed  %edit  %env  %gui  %hist  %history  %killbgscripts  %ldir  %less  %load  %load_ext  %loadpy  %logoff  %logon  %logstart  %logstate  %logstop  %ls  %lsmagic  %macro  %magic  %matplotlib  %mkdir  %more  %notebook  %page  %pastebin  %pdb  %pdef  %pdoc  %pfile  %pinfo  %pinfo2  %pip  %popd  %pprint  %precision  %prun  %psearch  %psource  %pushd  %pwd  %pycat  %pylab  %qtconsole  %quickref  %recall  %rehashx  %reload_ext  %ren  %rep  %rerun  %reset  %reset_selective  %rmdir  %run  %save  %sc  %set_env  %store  %sx  %system  %tb  %time  %timeit  %unalias  %unload_ext  %who  %who_ls  %whos  %xdel  %xmode\n",
       "\n",
       "Available cell magics:\n",
       "%%!  %%HTML  %%SVG  %%bash  %%capture  %%cmd  %%debug  %%file  %%html  %%javascript  %%js  %%latex  %%markdown  %%perl  %%prun  %%pypy  %%python  %%python2  %%python3  %%ruby  %%script  %%sh  %%svg  %%sx  %%system  %%time  %%timeit  %%writefile\n",
       "\n",
       "Automagic is ON, % prefix IS NOT needed for line magics."
      ]
     },
     "execution_count": 1,
     "metadata": {},
     "output_type": "execute_result"
    }
   ],
   "source": [
    "%lsmagic"
   ]
  },
  {
   "cell_type": "code",
   "execution_count": 9,
   "id": "e04d3762",
   "metadata": {},
   "outputs": [
    {
     "data": {
      "text/html": [
       "\n",
       "<!DOCTYPE html>\n",
       "<html>\n",
       "<body>\n",
       "\n",
       "<style>\n",
       "    .demonstration_class {\n",
       "      color: red;\n",
       "    }\n",
       "</style>\n",
       "\n",
       "<h2>HTML in Jupyter Notebook</h2>\n",
       "\n",
       "<p id=\"paragraph1\">This is a paragraph</p>\n",
       "\n",
       "<p id=\"paragraph2\">This is a different paragraph</p>\n",
       "\n",
       "<p class=\"paragraph_class\">This is a paragraph</p>\n",
       "\n",
       "<p id=\"demo\">This is yet another paragraph</p>\n",
       "\n",
       "<br>\n",
       "\n",
       "<a id=\"anchor\" href=\"https://www.youtube.com\" target=”_blank”>This is a hyper-link</a>\n",
       "\n",
       "<br>\n",
       "<br>\n",
       "\n",
       "<button id=\"button\">Click Me</button>\n",
       "\n",
       "</body>\n",
       "</html>\n"
      ],
      "text/plain": [
       "<IPython.core.display.HTML object>"
      ]
     },
     "metadata": {},
     "output_type": "display_data"
    }
   ],
   "source": [
    "%%HTML\n",
    "\n",
    "<!DOCTYPE html>\n",
    "<html>\n",
    "<body>\n",
    "\n",
    "<style>\n",
    "    .demonstration_class {\n",
    "      color: red;\n",
    "    }\n",
    "</style>\n",
    "\n",
    "<h2>HTML in Jupyter Notebook</h2>\n",
    "\n",
    "<p id=\"paragraph1\">This is a paragraph</p>\n",
    "\n",
    "<p id=\"paragraph2\">This is a different paragraph</p>\n",
    "\n",
    "<p class=\"paragraph_class\">This is a paragraph</p>\n",
    "\n",
    "<p id=\"demo\">This is yet another paragraph</p>\n",
    "\n",
    "<br>\n",
    "\n",
    "<a id=\"anchor\" href=\"https://www.youtube.com\" target=”_blank”>This is a hyper-link</a>\n",
    "\n",
    "<br>\n",
    "<br>\n",
    "\n",
    "<button id=\"button\">Click Me</button>\n",
    "\n",
    "</body>\n",
    "</html>"
   ]
  },
  {
   "cell_type": "code",
   "execution_count": 3,
   "id": "5d72474e",
   "metadata": {},
   "outputs": [
    {
     "data": {
      "application/javascript": [
       "\n",
       "element.text('Hello')\n",
       "console.log('Hi')\n"
      ],
      "text/plain": [
       "<IPython.core.display.Javascript object>"
      ]
     },
     "metadata": {},
     "output_type": "display_data"
    }
   ],
   "source": [
    "%%javascript\n",
    "\n",
    "element.text('Hello')\n",
    "console.log('Hi')"
   ]
  },
  {
   "cell_type": "code",
   "execution_count": 4,
   "id": "bfabaeb0",
   "metadata": {},
   "outputs": [
    {
     "data": {
      "application/javascript": [
       "\n",
       "document.getElementById(\"paragraph1\").innerHTML = \"This is a new paragraph\";\n"
      ],
      "text/plain": [
       "<IPython.core.display.Javascript object>"
      ]
     },
     "metadata": {},
     "output_type": "display_data"
    }
   ],
   "source": [
    "%%javascript\n",
    "\n",
    "document.getElementById(\"paragraph1\").innerHTML = \"This is a new paragraph\";"
   ]
  },
  {
   "cell_type": "code",
   "execution_count": 5,
   "id": "936682ca",
   "metadata": {},
   "outputs": [
    {
     "data": {
      "application/javascript": [
       "\n",
       "document.getElementsByClassName(\"paragraph_class\")[0].style.backgroundColor = \"red\";\n"
      ],
      "text/plain": [
       "<IPython.core.display.Javascript object>"
      ]
     },
     "metadata": {},
     "output_type": "display_data"
    }
   ],
   "source": [
    "%%javascript\n",
    "\n",
    "document.getElementsByClassName(\"paragraph_class\")[0].style.backgroundColor = \"red\";"
   ]
  },
  {
   "cell_type": "code",
   "execution_count": 6,
   "id": "5a03d4ac",
   "metadata": {},
   "outputs": [
    {
     "data": {
      "application/javascript": [
       "\n",
       "document.getElementById(\"demo\").setAttribute(\"class\", \"demonstration_class\");\n"
      ],
      "text/plain": [
       "<IPython.core.display.Javascript object>"
      ]
     },
     "metadata": {},
     "output_type": "display_data"
    }
   ],
   "source": [
    "%%javascript\n",
    "\n",
    "document.getElementById(\"demo\").setAttribute(\"class\", \"demonstration_class\");"
   ]
  },
  {
   "cell_type": "code",
   "execution_count": 7,
   "id": "268d3473",
   "metadata": {},
   "outputs": [
    {
     "data": {
      "application/javascript": [
       "\n",
       "document.getElementById(\"anchor\").removeAttribute(\"href\");\n"
      ],
      "text/plain": [
       "<IPython.core.display.Javascript object>"
      ]
     },
     "metadata": {},
     "output_type": "display_data"
    }
   ],
   "source": [
    "%%javascript\n",
    "\n",
    "document.getElementById(\"anchor\").removeAttribute(\"href\");"
   ]
  },
  {
   "cell_type": "code",
   "execution_count": 8,
   "id": "73c29836",
   "metadata": {},
   "outputs": [
    {
     "data": {
      "application/javascript": [
       "\n",
       "// jquery\n",
       "\n",
       "// $(\"p\") to select all elements with <p> tags\n",
       "// $(\".class_name\") to select all elements with the class name \"class_name\"\n",
       "// $(\"#id\") to select all elements with the id name \"id\"\n",
       "\n",
       "function hide_paragraphs() {\n",
       "    $(\"p\").hide();\n",
       "}\n",
       "\n",
       "function click_function() {\n",
       "  $(\"button\").click(hide_paragraphs);\n",
       "}\n",
       "\n",
       "$(document).ready(click_function);\n"
      ],
      "text/plain": [
       "<IPython.core.display.Javascript object>"
      ]
     },
     "metadata": {},
     "output_type": "display_data"
    }
   ],
   "source": [
    "%%javascript\n",
    "\n",
    "// jquery\n",
    "\n",
    "// $(\"p\") to select all elements with <p> tags\n",
    "// $(\".class_name\") to select all elements with the class name \"class_name\"\n",
    "// $(\"#id\") to select all elements with the id name \"id\"\n",
    "\n",
    "function hide_paragraphs() {\n",
    "    $(\"p\").hide();\n",
    "}\n",
    "\n",
    "function click_function() {\n",
    "  $(\"button\").click(hide_paragraphs);\n",
    "}\n",
    "\n",
    "$(document).ready(click_function);"
   ]
  },
  {
   "cell_type": "code",
   "execution_count": 12,
   "id": "e7c3bd5a",
   "metadata": {},
   "outputs": [
    {
     "data": {
      "text/html": [
       "\n",
       "<!DOCTYPE html>\n",
       "<html>\n",
       "<body>\n",
       "\n",
       "<h2>Get Attribute</h2>\n",
       "\n",
       "<br>\n",
       "\n",
       "<a id=\"link\" href=\"https://www.youtube.com\">visit youtube</a>\n",
       "<p id=\"demo_link\">This paragraph will be replaced by the link address</p>\n",
       "\n",
       "</body>\n",
       "</html>\n"
      ],
      "text/plain": [
       "<IPython.core.display.HTML object>"
      ]
     },
     "metadata": {},
     "output_type": "display_data"
    }
   ],
   "source": [
    "%%HTML\n",
    "\n",
    "<!DOCTYPE html>\n",
    "<html>\n",
    "<body>\n",
    "\n",
    "<h2>Get Attribute</h2>\n",
    "\n",
    "<br>\n",
    "\n",
    "<a id=\"link\" href=\"https://www.youtube.com\">visit youtube</a>\n",
    "<p id=\"demo_link\">This paragraph will be replaced by the link address</p>\n",
    "\n",
    "</body>\n",
    "</html>"
   ]
  },
  {
   "cell_type": "code",
   "execution_count": 13,
   "id": "b8bac58e",
   "metadata": {},
   "outputs": [
    {
     "data": {
      "application/javascript": [
       "\n",
       "const element = document.getElementById(\"link\");\n",
       "let text = element.getAttribute(\"href\");\n",
       "\n",
       "document.getElementById(\"demo_link\").innerHTML = text;\n"
      ],
      "text/plain": [
       "<IPython.core.display.Javascript object>"
      ]
     },
     "metadata": {},
     "output_type": "display_data"
    }
   ],
   "source": [
    "%%javascript\n",
    "\n",
    "const element = document.getElementById(\"link\");\n",
    "let text = element.getAttribute(\"href\");\n",
    "\n",
    "document.getElementById(\"demo_link\").innerHTML = text;"
   ]
  },
  {
   "cell_type": "code",
   "execution_count": 14,
   "id": "20d1001e",
   "metadata": {},
   "outputs": [
    {
     "data": {
      "text/html": [
       "\n",
       "<!DOCTYPE html>\n",
       "<html>\n",
       "<body>\n",
       "\n",
       "<h2>Event Listeners</h2>\n",
       "\n",
       "<br>\n",
       "\n",
       "<p>Click the button below to display \"Hello World!\".</p>\n",
       "\n",
       "<p id=\"display\"></p>\n",
       "\n",
       "<button id=\"myBtn\">Click here</button>\n",
       "\n",
       "<br>\n",
       "\n",
       "</body>\n",
       "</html>\n"
      ],
      "text/plain": [
       "<IPython.core.display.HTML object>"
      ]
     },
     "metadata": {},
     "output_type": "display_data"
    }
   ],
   "source": [
    "%%HTML\n",
    "\n",
    "<!DOCTYPE html>\n",
    "<html>\n",
    "<body>\n",
    "\n",
    "<h2>Event Listeners</h2>\n",
    "\n",
    "<br>\n",
    "\n",
    "<p>Click the button below to display \"Hello World!\".</p>\n",
    "\n",
    "<p id=\"display\"></p>\n",
    "\n",
    "<button id=\"myBtn\">Click here</button>\n",
    "\n",
    "<br>\n",
    "\n",
    "</body>\n",
    "</html>"
   ]
  },
  {
   "cell_type": "code",
   "execution_count": 16,
   "id": "44cc1e95",
   "metadata": {},
   "outputs": [
    {
     "data": {
      "application/javascript": [
       "\n",
       "const Btn = document.getElementById(\"myBtn\");\n",
       "\n",
       "Btn.addEventListener(\"click\", myFunction);\n",
       "\n",
       "function myFunction() {\n",
       "  document.getElementById(\"display\").innerHTML = \"Hello World\";\n",
       "}\n"
      ],
      "text/plain": [
       "<IPython.core.display.Javascript object>"
      ]
     },
     "metadata": {},
     "output_type": "display_data"
    }
   ],
   "source": [
    "%%javascript\n",
    "\n",
    "const Btn = document.getElementById(\"myBtn\");\n",
    "\n",
    "Btn.addEventListener(\"click\", myFunction);\n",
    "\n",
    "function myFunction() {\n",
    "  document.getElementById(\"display\").innerHTML = \"Hello World\";\n",
    "}"
   ]
  },
  {
   "cell_type": "code",
   "execution_count": 18,
   "id": "476c9877",
   "metadata": {},
   "outputs": [
    {
     "data": {
      "application/javascript": [
       "\n",
       "const Btn = document.getElementById(\"myBtn\");\n",
       "\n",
       "Btn.removeEventListener(\"click\", myFunction);\n",
       "\n",
       "function myFunction() {\n",
       "  document.getElementById(\"display\").innerHTML = \"Hello World\";\n",
       "}\n"
      ],
      "text/plain": [
       "<IPython.core.display.Javascript object>"
      ]
     },
     "metadata": {},
     "output_type": "display_data"
    }
   ],
   "source": [
    "%%javascript\n",
    "\n",
    "const Btn = document.getElementById(\"myBtn\");\n",
    "\n",
    "Btn.removeEventListener(\"click\", myFunction);\n",
    "\n",
    "function myFunction() {\n",
    "  document.getElementById(\"display\").innerHTML = \"Hello World\";\n",
    "}"
   ]
  },
  {
   "cell_type": "code",
   "execution_count": 19,
   "id": "c2d64960",
   "metadata": {},
   "outputs": [
    {
     "data": {
      "application/javascript": [
       "\n",
       "localStorage.setItem(\"city\", \"Johannesburg\")\n",
       "localStorage.setItem(\"country\", \"South Africa\")\n"
      ],
      "text/plain": [
       "<IPython.core.display.Javascript object>"
      ]
     },
     "metadata": {},
     "output_type": "display_data"
    }
   ],
   "source": [
    "%%javascript\n",
    "\n",
    "localStorage.setItem(\"city\", \"Johannesburg\")\n",
    "localStorage.setItem(\"country\", \"South Africa\")"
   ]
  },
  {
   "cell_type": "code",
   "execution_count": 20,
   "id": "e2251227",
   "metadata": {},
   "outputs": [
    {
     "data": {
      "application/javascript": [
       "\n",
       "var city = localStorage.getItem(\"city\")\n",
       "element.text(city)\n"
      ],
      "text/plain": [
       "<IPython.core.display.Javascript object>"
      ]
     },
     "metadata": {},
     "output_type": "display_data"
    }
   ],
   "source": [
    "%%javascript\n",
    "\n",
    "var city = localStorage.getItem(\"city\")\n",
    "element.text(city)"
   ]
  },
  {
   "cell_type": "code",
   "execution_count": 21,
   "id": "872adfe6",
   "metadata": {},
   "outputs": [
    {
     "data": {
      "application/javascript": [
       "\n",
       "localStorage.removeItem(\"city\")\n"
      ],
      "text/plain": [
       "<IPython.core.display.Javascript object>"
      ]
     },
     "metadata": {},
     "output_type": "display_data"
    }
   ],
   "source": [
    "%%javascript\n",
    "\n",
    "localStorage.removeItem(\"city\")"
   ]
  },
  {
   "cell_type": "code",
   "execution_count": 22,
   "id": "105677e9",
   "metadata": {},
   "outputs": [
    {
     "data": {
      "application/javascript": [
       "\n",
       "var city = localStorage.getItem(\"city\")\n",
       "element.text(city)\n"
      ],
      "text/plain": [
       "<IPython.core.display.Javascript object>"
      ]
     },
     "metadata": {},
     "output_type": "display_data"
    }
   ],
   "source": [
    "%%javascript\n",
    "\n",
    "var city = localStorage.getItem(\"city\")\n",
    "element.text(city)"
   ]
  },
  {
   "cell_type": "code",
   "execution_count": 23,
   "id": "486bb21d",
   "metadata": {},
   "outputs": [
    {
     "data": {
      "application/javascript": [
       "\n",
       "localStorage.clear()\n"
      ],
      "text/plain": [
       "<IPython.core.display.Javascript object>"
      ]
     },
     "metadata": {},
     "output_type": "display_data"
    }
   ],
   "source": [
    "%%javascript\n",
    "\n",
    "localStorage.clear()"
   ]
  },
  {
   "cell_type": "code",
   "execution_count": null,
   "id": "d4f1c55e",
   "metadata": {},
   "outputs": [],
   "source": []
  }
 ],
 "metadata": {
  "kernelspec": {
   "display_name": "Python 3 (ipykernel)",
   "language": "python",
   "name": "python3"
  },
  "language_info": {
   "codemirror_mode": {
    "name": "ipython",
    "version": 3
   },
   "file_extension": ".py",
   "mimetype": "text/x-python",
   "name": "python",
   "nbconvert_exporter": "python",
   "pygments_lexer": "ipython3",
   "version": "3.10.8"
  }
 },
 "nbformat": 4,
 "nbformat_minor": 5
}
